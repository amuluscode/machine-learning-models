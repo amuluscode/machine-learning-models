{
 "cells": [
  {
   "cell_type": "code",
   "execution_count": 19,
   "id": "c394e317",
   "metadata": {},
   "outputs": [],
   "source": [
    "import time"
   ]
  },
  {
   "cell_type": "code",
   "execution_count": 31,
   "id": "86a79c26",
   "metadata": {},
   "outputs": [],
   "source": [
    "def fibo(n,d):\n",
    "    if n in d:\n",
    "        \n",
    "        return d[n]\n",
    "    \n",
    "        \n",
    "    else:\n",
    "        d[n]=fibo(n-1,d) + fibo(n-2,d)\n",
    "        return d[n]"
   ]
  },
  {
   "cell_type": "code",
   "execution_count": 34,
   "id": "3930db83",
   "metadata": {},
   "outputs": [
    {
     "data": {
      "text/plain": [
       "573147844013817084101"
      ]
     },
     "execution_count": 34,
     "metadata": {},
     "output_type": "execute_result"
    }
   ],
   "source": [
    "d={0:1,1:1}\n",
    "fibo(100,d)"
   ]
  },
  {
   "cell_type": "code",
   "execution_count": null,
   "id": "64969a33",
   "metadata": {},
   "outputs": [],
   "source": []
  }
 ],
 "metadata": {
  "kernelspec": {
   "display_name": "venv",
   "language": "python",
   "name": "python3"
  },
  "language_info": {
   "codemirror_mode": {
    "name": "ipython",
    "version": 3
   },
   "file_extension": ".py",
   "mimetype": "text/x-python",
   "name": "python",
   "nbconvert_exporter": "python",
   "pygments_lexer": "ipython3",
   "version": "3.12.3"
  }
 },
 "nbformat": 4,
 "nbformat_minor": 5
}
