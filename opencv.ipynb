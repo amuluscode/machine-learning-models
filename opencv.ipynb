{
 "cells": [
  {
   "cell_type": "code",
   "execution_count": null,
   "id": "7fd9cfdc",
   "metadata": {},
   "outputs": [
    {
     "ename": "error",
     "evalue": "OpenCV(4.11.0) D:\\a\\opencv-python\\opencv-python\\opencv\\modules\\highgui\\src\\window.cpp:973: error: (-215:Assertion failed) size.width>0 && size.height>0 in function 'cv::imshow'\n",
     "output_type": "error",
     "traceback": [
      "\u001b[31m---------------------------------------------------------------------------\u001b[39m",
      "\u001b[31merror\u001b[39m                                     Traceback (most recent call last)",
      "\u001b[36mCell\u001b[39m\u001b[36m \u001b[39m\u001b[32mIn[1]\u001b[39m\u001b[32m, line 5\u001b[39m\n\u001b[32m      3\u001b[39m \u001b[38;5;28;01mwhile\u001b[39;00m \u001b[38;5;28;01mTrue\u001b[39;00m:\n\u001b[32m      4\u001b[39m     isTrue, Frame=capture.read()\n\u001b[32m----> \u001b[39m\u001b[32m5\u001b[39m     \u001b[43mcv\u001b[49m\u001b[43m.\u001b[49m\u001b[43mimshow\u001b[49m\u001b[43m(\u001b[49m\u001b[33;43m'\u001b[39;49m\u001b[33;43mvideo\u001b[39;49m\u001b[33;43m'\u001b[39;49m\u001b[43m,\u001b[49m\u001b[43mFrame\u001b[49m\u001b[43m)\u001b[49m\n\u001b[32m      6\u001b[39m     \u001b[38;5;28;01mif\u001b[39;00m cv.waitKey(\u001b[32m20\u001b[39m) & \u001b[32m0xFF\u001b[39m==\u001b[38;5;28mord\u001b[39m(\u001b[33m'\u001b[39m\u001b[33md\u001b[39m\u001b[33m'\u001b[39m):\n\u001b[32m      7\u001b[39m         \u001b[38;5;28;01mbreak\u001b[39;00m\n",
      "\u001b[31merror\u001b[39m: OpenCV(4.11.0) D:\\a\\opencv-python\\opencv-python\\opencv\\modules\\highgui\\src\\window.cpp:973: error: (-215:Assertion failed) size.width>0 && size.height>0 in function 'cv::imshow'\n"
     ]
    }
   ],
   "source": [
    "#reading Video\n",
    "import cv2 as cv\n",
    "capture=cv.VideoCapture('Screen Recording 2025-02-01 190541.mp4')\n",
    "while True:\n",
    "    isTrue, Frame=capture.read()\n",
    "    cv.imshow('video',Frame)\n",
    "    if cv.waitKey(20) & 0xFF==ord('d'):\n",
    "        break\n",
    "capture.release()\n",
    "capture.destroyAllwindows()"
   ]
  },
  {
   "cell_type": "code",
   "execution_count": null,
   "id": "1177b5fc",
   "metadata": {},
   "outputs": [],
   "source": [
    "import os \n",
    "os.getcwd()\n",
    "os.chdir(r\"D:\\main\"\n",
    "         )\n",
    "os.getcwd()\n",
    "# os.makedirs(r'D:\\main\\testing')\n",
    "os.listdir(r'D:\\main')\n",
    "# os.removedirs(r'D:\\main\\testing')\n",
    "os.rename(r\"D:\\main\\PetImages\",r\"D:\\main\\PetImages_img\")\n"
   ]
  },
  {
   "cell_type": "code",
   "execution_count": 19,
   "id": "90a852c7",
   "metadata": {},
   "outputs": [
    {
     "data": {
      "text/plain": [
       "True"
      ]
     },
     "execution_count": 19,
     "metadata": {},
     "output_type": "execute_result"
    }
   ],
   "source": [
    "# print(dir(os.path))\n",
    "os.path.exists(r\"D:\\main\\PetImages_img\")"
   ]
  },
  {
   "cell_type": "code",
   "execution_count": null,
   "id": "29b38ce0",
   "metadata": {},
   "outputs": [
    {
     "ename": "error",
     "evalue": "OpenCV(4.11.0) :-1: error: (-5:Bad argument) in function 'imshow'\n> Overload resolution failed:\n>  - imshow() missing required argument 'mat' (pos 2)\n>  - imshow() missing required argument 'mat' (pos 2)\n>  - imshow() missing required argument 'mat' (pos 2)\n",
     "output_type": "error",
     "traceback": [
      "\u001b[31m---------------------------------------------------------------------------\u001b[39m",
      "\u001b[31merror\u001b[39m                                     Traceback (most recent call last)",
      "\u001b[36mCell\u001b[39m\u001b[36m \u001b[39m\u001b[32mIn[14]\u001b[39m\u001b[32m, line 3\u001b[39m\n\u001b[32m      1\u001b[39m \u001b[38;5;66;03m# rescale\u001b[39;00m\n\u001b[32m      2\u001b[39m img=cv.imread(\u001b[33m\"\u001b[39m\u001b[33mScreenshot 2025-06-12 085032.png\u001b[39m\u001b[33m\"\u001b[39m)\n\u001b[32m----> \u001b[39m\u001b[32m3\u001b[39m \u001b[43mcv\u001b[49m\u001b[43m.\u001b[49m\u001b[43mimshow\u001b[49m\u001b[43m(\u001b[49m\u001b[43mimg\u001b[49m\u001b[43m)\u001b[49m\n\u001b[32m      4\u001b[39m \u001b[38;5;28;01mdef\u001b[39;00m\u001b[38;5;250m \u001b[39m\u001b[34mresimg\u001b[39m(img,scale=\u001b[32m0.75\u001b[39m):\n\u001b[32m      5\u001b[39m     width=\u001b[38;5;28mint\u001b[39m(img.shape[\u001b[32m1\u001b[39m]*scale)\n",
      "\u001b[31merror\u001b[39m: OpenCV(4.11.0) :-1: error: (-5:Bad argument) in function 'imshow'\n> Overload resolution failed:\n>  - imshow() missing required argument 'mat' (pos 2)\n>  - imshow() missing required argument 'mat' (pos 2)\n>  - imshow() missing required argument 'mat' (pos 2)\n"
     ]
    }
   ],
   "source": [
    "# rescale\n",
    "img=cv.imread(\"Screenshot 2025-06-12 085032.png\")\n",
    "cv.imshow(img)\n",
    "def resimg(img,scale=0.75):\n",
    "    width=int(img.shape[1]*scale)\n",
    "    height=int(img.shape[0]*scale)\n",
    "    dimeansion=(width,heigth)\n"
   ]
  },
  {
   "cell_type": "code",
   "execution_count": 1,
   "id": "070a545d",
   "metadata": {},
   "outputs": [],
   "source": [
    "import pandas as pd\n",
    "import numpy as np\n",
    "import matplotlib.pyplot as plt"
   ]
  },
  {
   "cell_type": "code",
   "execution_count": null,
   "id": "3c1c26c1",
   "metadata": {},
   "outputs": [
    {
     "ename": "NameError",
     "evalue": "name 'pd' is not defined",
     "output_type": "error",
     "traceback": [
      "\u001b[31m---------------------------------------------------------------------------\u001b[39m",
      "\u001b[31mNameError\u001b[39m                                 Traceback (most recent call last)",
      "\u001b[36mCell\u001b[39m\u001b[36m \u001b[39m\u001b[32mIn[1]\u001b[39m\u001b[32m, line 1\u001b[39m\n\u001b[32m----> \u001b[39m\u001b[32m1\u001b[39m df=\u001b[43mpd\u001b[49m.read_csv(\u001b[33m'\u001b[39m\u001b[33mTitanic-Dataset.csv\u001b[39m\u001b[33m'\u001b[39m)\n",
      "\u001b[31mNameError\u001b[39m: name 'pd' is not defined"
     ]
    }
   ],
   "source": [
    "import pandas as \n",
    "df=pd.read_csv('Titanic-Dataset.csv')"
   ]
  },
  {
   "cell_type": "code",
   "execution_count": null,
   "id": "551694a9",
   "metadata": {},
   "outputs": [
    {
     "ename": "NameError",
     "evalue": "name 'x' is not defined",
     "output_type": "error",
     "traceback": [
      "\u001b[31m---------------------------------------------------------------------------\u001b[39m",
      "\u001b[31mNameError\u001b[39m                                 Traceback (most recent call last)",
      "\u001b[36mCell\u001b[39m\u001b[36m \u001b[39m\u001b[32mIn[31]\u001b[39m\u001b[32m, line 1\u001b[39m\n\u001b[32m----> \u001b[39m\u001b[32m1\u001b[39m \u001b[38;5;28mprint\u001b[39m(\u001b[38;5;28meval\u001b[39m(\u001b[43mx\u001b[49m,y))\n",
      "\u001b[31mNameError\u001b[39m: name 'x' is not defined"
     ]
    }
   ],
   "source": []
  },
  {
   "cell_type": "code",
   "execution_count": 7,
   "id": "f4455900",
   "metadata": {},
   "outputs": [],
   "source": [
    "from sklearn.preprocessing import MinMaxScaler\n",
    "scx=MinMaxScaler()\n",
    "scy=MinMaxScaler()"
   ]
  },
  {
   "cell_type": "code",
   "execution_count": 13,
   "id": "eb7bd05b",
   "metadata": {},
   "outputs": [],
   "source": [
    "x_scaled=scx.fit_transform(df.drop('price',axis='columns'))\n",
    "y_scaled=scy.fit_transform(df['price'].values.reshape(-1,1))"
   ]
  },
  {
   "cell_type": "code",
   "execution_count": 25,
   "id": "6100d8b9",
   "metadata": {},
   "outputs": [
    {
     "data": {
      "text/plain": [
       "array([[0.08827586, 0.25      ],\n",
       "       [0.62068966, 0.75      ],\n",
       "       [0.22068966, 0.5       ],\n",
       "       [0.24862069, 0.5       ],\n",
       "       [0.13793103, 0.25      ],\n",
       "       [0.12758621, 0.25      ],\n",
       "       [0.6662069 , 0.75      ],\n",
       "       [0.86206897, 0.75      ],\n",
       "       [0.17586207, 0.5       ],\n",
       "       [1.        , 1.        ],\n",
       "       [0.34482759, 0.5       ],\n",
       "       [0.68448276, 0.75      ],\n",
       "       [0.06896552, 0.25      ],\n",
       "       [0.10344828, 0.25      ],\n",
       "       [0.5       , 0.5       ],\n",
       "       [0.12931034, 0.25      ],\n",
       "       [0.13103448, 0.5       ],\n",
       "       [0.25517241, 0.5       ],\n",
       "       [0.67931034, 0.5       ],\n",
       "       [0.        , 0.        ]])"
      ]
     },
     "execution_count": 25,
     "metadata": {},
     "output_type": "execute_result"
    }
   ],
   "source": [
    "x_scaled"
   ]
  },
  {
   "cell_type": "code",
   "execution_count": 28,
   "id": "eeafc8b6",
   "metadata": {},
   "outputs": [
    {
     "ename": "ValueError",
     "evalue": "operands could not be broadcast together with shapes (2,) (2,20) ",
     "output_type": "error",
     "traceback": [
      "\u001b[31m---------------------------------------------------------------------------\u001b[39m",
      "\u001b[31mValueError\u001b[39m                                Traceback (most recent call last)",
      "\u001b[36mCell\u001b[39m\u001b[36m \u001b[39m\u001b[32mIn[28]\u001b[39m\u001b[32m, line 19\u001b[39m\n\u001b[32m     17\u001b[39m             epoch_list.append(i)\n\u001b[32m     18\u001b[39m         \u001b[38;5;28;01mreturn\u001b[39;00m w,b,cost,cost_list,epoch_list\n\u001b[32m---> \u001b[39m\u001b[32m19\u001b[39m w,b,cost,cost_list,epoch_list=\u001b[43mgrad_descent\u001b[49m\u001b[43m(\u001b[49m\u001b[43mx_scaled\u001b[49m\u001b[43m,\u001b[49m\u001b[43my_scaled\u001b[49m\u001b[43m,\u001b[49m\u001b[32;43m10\u001b[39;49m\u001b[43m)\u001b[49m\n",
      "\u001b[36mCell\u001b[39m\u001b[36m \u001b[39m\u001b[32mIn[28]\u001b[39m\u001b[32m, line 12\u001b[39m, in \u001b[36mgrad_descent\u001b[39m\u001b[34m(x, y_true, epoch, learning_rate)\u001b[39m\n\u001b[32m     10\u001b[39m w_grad=-(\u001b[32m2\u001b[39m/total)*(x.T.dot(y_true-y_pred))\n\u001b[32m     11\u001b[39m b_grad=-(\u001b[32m2\u001b[39m/total)*np.sum(y_true-y_pred) \n\u001b[32m---> \u001b[39m\u001b[32m12\u001b[39m w=\u001b[43mw\u001b[49m\u001b[43m-\u001b[49m\u001b[43mlearning_rate\u001b[49m\u001b[43m*\u001b[49m\u001b[43mw_grad\u001b[49m\n\u001b[32m     13\u001b[39m b=b-learning_rate*b_grad\n\u001b[32m     14\u001b[39m cost=np.mean(np.square(y_true-y_pred))\n",
      "\u001b[31mValueError\u001b[39m: operands could not be broadcast together with shapes (2,) (2,20) "
     ]
    }
   ],
   "source": [
    "def grad_descent(x,y_true,epoch,learning_rate=0.01):\n",
    "    number_of_features=x.shape[1]\n",
    "    w=np.ones(shape=(number_of_features))\n",
    "    b=0\n",
    "    total=x.shape[0]\n",
    "    cost_list=[]\n",
    "    epoch_list=[]\n",
    "    for i in  range(epoch):\n",
    "        y_pred=np.dot(w,x.T)+b\n",
    "        w_grad=-(2/total)*(x.T.dot(y_true-y_pred))\n",
    "        b_grad=-(2/total)*np.sum(y_true-y_pred) \n",
    "        w=w-learning_rate*w_grad\n",
    "        b=b-learning_rate*b_grad\n",
    "        cost=np.mean(np.square(y_true-y_pred))\n",
    "        if i%10==0:\n",
    "            cost_list.append(cost)\n",
    "            epoch_list.append(i)\n",
    "        return w,b,cost,cost_list,epoch_list\n",
    "w,b,cost,cost_list,epoch_list=grad_descent(x_scaled,y_scaled,10)\n"
   ]
  },
  {
   "cell_type": "code",
   "execution_count": null,
   "id": "baf865ec",
   "metadata": {},
   "outputs": [
    {
     "data": {
      "text/plain": [
       "array([1., 1.])"
      ]
     },
     "execution_count": 17,
     "metadata": {},
     "output_type": "execute_result"
    }
   ],
   "source": [
    "np.ones(shape=(2))"
   ]
  },
  {
   "cell_type": "code",
   "execution_count": 20,
   "id": "dc732536",
   "metadata": {},
   "outputs": [
    {
     "data": {
      "text/plain": [
       "array([0.])"
      ]
     },
     "execution_count": 20,
     "metadata": {},
     "output_type": "execute_result"
    }
   ],
   "source": [
    "np.zeros(1)"
   ]
  },
  {
   "cell_type": "code",
   "execution_count": null,
   "id": "0b7eab0b",
   "metadata": {},
   "outputs": [
    {
     "ename": "AttributeError",
     "evalue": "'list' object has no attribute 'T'",
     "output_type": "error",
     "traceback": [
      "\u001b[31m---------------------------------------------------------------------------\u001b[39m",
      "\u001b[31mAttributeError\u001b[39m                            Traceback (most recent call last)",
      "\u001b[36mCell\u001b[39m\u001b[36m \u001b[39m\u001b[32mIn[23]\u001b[39m\u001b[32m, line 3\u001b[39m\n\u001b[32m      1\u001b[39m total=\u001b[32m3\u001b[39m\n\u001b[32m      2\u001b[39m a=[\u001b[32m1\u001b[39m,\u001b[32m3\u001b[39m]\n\u001b[32m----> \u001b[39m\u001b[32m3\u001b[39m w=-(\u001b[32m2\u001b[39m/total)*(\u001b[43ma\u001b[49m\u001b[43m.\u001b[49m\u001b[43mT\u001b[49m.dot([\u001b[32m1\u001b[39m,\u001b[32m2\u001b[39m],[\u001b[32m1\u001b[39m,\u001b[32m2\u001b[39m]))\n",
      "\u001b[31mAttributeError\u001b[39m: 'list' object has no attribute 'T'"
     ]
    }
   ],
   "source": []
  },
  {
   "cell_type": "code",
   "execution_count": null,
   "id": "b527c56b",
   "metadata": {},
   "outputs": [],
   "source": []
  }
 ],
 "metadata": {
  "kernelspec": {
   "display_name": "venv",
   "language": "python",
   "name": "python3"
  },
  "language_info": {
   "codemirror_mode": {
    "name": "ipython",
    "version": 3
   },
   "file_extension": ".py",
   "mimetype": "text/x-python",
   "name": "python",
   "nbconvert_exporter": "python",
   "pygments_lexer": "ipython3",
   "version": "3.13.3"
  }
 },
 "nbformat": 4,
 "nbformat_minor": 5
}
